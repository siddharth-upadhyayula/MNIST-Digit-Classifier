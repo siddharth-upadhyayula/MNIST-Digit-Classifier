{
  "nbformat": 4,
  "nbformat_minor": 0,
  "metadata": {
    "colab": {
      "name": "MNIST_Digit_Classifier.ipynb",
      "provenance": []
    },
    "kernelspec": {
      "name": "python3",
      "display_name": "Python 3"
    },
    "accelerator": "TPU"
  },
  "cells": [
    {
      "cell_type": "code",
      "metadata": {
        "id": "AQ5oRwpcF-FS",
        "colab_type": "code",
        "colab": {}
      },
      "source": [
        "import tensorflow as tf # Import tensorflow library\n",
        "import matplotlib.pyplot as plt # Import matplotlib library\n",
        "import numpy as np # Import numpy library"
      ],
      "execution_count": 0,
      "outputs": []
    },
    {
      "cell_type": "code",
      "metadata": {
        "id": "RbGG-bQSF-Ch",
        "colab_type": "code",
        "colab": {}
      },
      "source": [
        "mnist = tf.keras.datasets.mnist # Object of the MNIST dataset\n",
        "(x_train, y_train),(x_test, y_test) = mnist.load_data() # Load data"
      ],
      "execution_count": 0,
      "outputs": []
    },
    {
      "cell_type": "code",
      "metadata": {
        "id": "_IjPbufHF-AY",
        "colab_type": "code",
        "outputId": "1088c497-1604-46d3-9e42-67787e91622f",
        "colab": {
          "base_uri": "https://localhost:8080/",
          "height": 265
        }
      },
      "source": [
        "plt.imshow(x_train[0], cmap=\"gray\") # Import the image\n",
        "plt.show() # Plot the image"
      ],
      "execution_count": 0,
      "outputs": [
        {
          "output_type": "display_data",
          "data": {
            "image/png": "[encoded data removed]",
            "text/plain": [
              "<Figure size 432x288 with 1 Axes>"
            ]
          },
          "metadata": {
            "tags": []
          }
        }
      ]
    },
    {
      "cell_type": "code",
      "metadata": {
        "id": "Y3EoFBHrF99s",
        "colab_type": "code",
        "colab": {}
      },
      "source": [
        "x_train = tf.keras.utils.normalize(x_train, axis=1) # Normalize the training dataset\n",
        "x_test = tf.keras.utils.normalize(x_test, axis=1) # Normalize the testing dataset"
      ],
      "execution_count": 0,
      "outputs": []
    },
    {
      "cell_type": "code",
      "metadata": {
        "id": "WvHo9B9mF96a",
        "colab_type": "code",
        "colab": {}
      },
      "source": [
        "#Build the model object\n",
        "model = tf.keras.models.Sequential()\n",
        "# Add the Flatten Layer\n",
        "model.add(tf.keras.layers.Flatten())\n",
        "# Build the input and the hidden layers\n",
        "model.add(tf.keras.layers.Dense(128, activation=tf.nn.relu))\n",
        "model.add(tf.keras.layers.Dense(128, activation=tf.nn.relu))\n",
        "# Build the output layer\n",
        "model.add(tf.keras.layers.Dense(10, activation=tf.nn.softmax))"
      ],
      "execution_count": 0,
      "outputs": []
    },
    {
      "cell_type": "code",
      "metadata": {
        "id": "jcn_iFORF94S",
        "colab_type": "code",
        "colab": {}
      },
      "source": [
        "model.compile(optimizer=\"adam\", loss=\"sparse_categorical_crossentropy\", metrics=[\"accuracy\"])"
      ],
      "execution_count": 0,
      "outputs": []
    },
    {
      "cell_type": "code",
      "metadata": {
        "id": "dzJ9mocEF91i",
        "colab_type": "code",
        "outputId": "8139a507-5062-47e4-cdb0-0c73bdb04377",
        "colab": {
          "base_uri": "https://localhost:8080/",
          "height": 217
        }
      },
      "source": [
        "model.fit(x=x_train, y=y_train, epochs=5) # Start training process"
      ],
      "execution_count": 0,
      "outputs": [
        {
          "output_type": "stream",
          "text": [
            "Epoch 1/5\n",
            "1875/1875 [==============================] - 4s 2ms/step - loss: 0.0102 - accuracy: 0.9966\n",
            "Epoch 2/5\n",
            "1875/1875 [==============================] - 4s 2ms/step - loss: 0.0078 - accuracy: 0.9974\n",
            "Epoch 3/5\n",
            "1875/1875 [==============================] - 4s 2ms/step - loss: 0.0074 - accuracy: 0.9976\n",
            "Epoch 4/5\n",
            "1875/1875 [==============================] - 4s 2ms/step - loss: 0.0082 - accuracy: 0.9974\n",
            "Epoch 5/5\n",
            "1875/1875 [==============================] - 4s 2ms/step - loss: 0.0076 - accuracy: 0.9977\n"
          ],
          "name": "stdout"
        },
        {
          "output_type": "execute_result",
          "data": {
            "text/plain": [
              "<tensorflow.python.keras.callbacks.History at 0x7fb081943978>"
            ]
          },
          "metadata": {
            "tags": []
          },
          "execution_count": 26
        }
      ]
    },
    {
      "cell_type": "code",
      "metadata": {
        "id": "kPCSSXPxF9zG",
        "colab_type": "code",
        "outputId": "5470afc7-da04-4eb7-86bf-d0d7566a45d8",
        "colab": {
          "base_uri": "https://localhost:8080/",
          "height": 72
        }
      },
      "source": [
        "# Evaluate the model performance\n",
        "test_loss, test_acc = model.evaluate(x=x_test, y=y_test)\n",
        "# Print out the model accuracy \n",
        "print('\\nTest accuracy:', test_acc)"
      ],
      "execution_count": 0,
      "outputs": [
        {
          "output_type": "stream",
          "text": [
            "313/313 [==============================] - 0s 1ms/step - loss: 0.1009 - accuracy: 0.9768\n",
            "\n",
            "Test accuracy: 0.9768000245094299\n"
          ],
          "name": "stdout"
        }
      ]
    },
    {
      "cell_type": "code",
      "metadata": {
        "id": "ZpSJ8ivFF9wS",
        "colab_type": "code",
        "colab": {}
      },
      "source": [
        "predictions = model.predict(x_test) "
      ],
      "execution_count": 0,
      "outputs": []
    },
    {
      "cell_type": "code",
      "metadata": {
        "id": "HaUsVE1aF9sp",
        "colab_type": "code",
        "outputId": "4184e02c-844b-4a0d-f506-9fdfc7054c17",
        "colab": {
          "base_uri": "https://localhost:8080/",
          "height": 35
        }
      },
      "source": [
        "print(np.argmax(predictions[1500])) # Print out the number"
      ],
      "execution_count": 0,
      "outputs": [
        {
          "output_type": "stream",
          "text": [
            "7\n"
          ],
          "name": "stdout"
        }
      ]
    },
    {
      "cell_type": "code",
      "metadata": {
        "id": "9pEOP4grF9pb",
        "colab_type": "code",
        "outputId": "eb008d7e-d80a-4db5-f624-95056fb3fd10",
        "colab": {
          "base_uri": "https://localhost:8080/",
          "height": 265
        }
      },
      "source": [
        "plt.imshow(x_test[1500], cmap=\"gray\") # Import the image\n",
        "plt.show() # Show the image"
      ],
      "execution_count": 0,
      "outputs": [
        {
          "output_type": "display_data",
          "data": {
            "image/png": "[encoded data removed]",
            "text/plain": [
              "<Figure size 432x288 with 1 Axes>"
            ]
          },
          "metadata": {
            "tags": []
          }
        }
      ]
    },
    {
      "cell_type": "code",
      "metadata": {
        "id": "5VWLlZglJUS2",
        "colab_type": "code",
        "colab": {}
      },
      "source": [
        ""
      ],
      "execution_count": 0,
      "outputs": []
    }
  ]
}